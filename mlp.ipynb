{
 "cells": [
  {
   "cell_type": "code",
   "execution_count": 1,
   "id": "71fd3274",
   "metadata": {},
   "outputs": [],
   "source": [
    "import torch\n",
    "import torch.nn.functional as F\n",
    "import matplotlib.pyplot as plt\n",
    "%matplotlib inline"
   ]
  },
  {
   "cell_type": "code",
   "execution_count": 2,
   "id": "2b0d7ab8",
   "metadata": {},
   "outputs": [
    {
     "data": {
      "text/plain": [
       "['emma',\n",
       " 'olivia',\n",
       " 'ava',\n",
       " 'isabella',\n",
       " 'sophia',\n",
       " 'charlotte',\n",
       " 'mia',\n",
       " 'amelia',\n",
       " 'harper',\n",
       " 'evelyn']"
      ]
     },
     "execution_count": 2,
     "metadata": {},
     "output_type": "execute_result"
    }
   ],
   "source": [
    "words = open('names.txt', 'r').read().splitlines()\n",
    "words[:10]"
   ]
  },
  {
   "cell_type": "code",
   "execution_count": 3,
   "id": "03181b9a",
   "metadata": {},
   "outputs": [
    {
     "data": {
      "text/plain": [
       "32033"
      ]
     },
     "execution_count": 3,
     "metadata": {},
     "output_type": "execute_result"
    }
   ],
   "source": [
    "len(words)"
   ]
  },
  {
   "cell_type": "code",
   "execution_count": 4,
   "id": "00556353",
   "metadata": {},
   "outputs": [
    {
     "name": "stdout",
     "output_type": "stream",
     "text": [
      "{1: 'a', 2: 'b', 3: 'c', 4: 'd', 5: 'e', 6: 'f', 7: 'g', 8: 'h', 9: 'i', 10: 'j', 11: 'k', 12: 'l', 13: 'm', 14: 'n', 15: 'o', 16: 'p', 17: 'q', 18: 'r', 19: 's', 20: 't', 21: 'u', 22: 'v', 23: 'w', 24: 'x', 25: 'y', 26: 'z', 0: '.'}\n"
     ]
    }
   ],
   "source": [
    "#build vocab\n",
    "chars = sorted(list(set(''.join(words))))\n",
    "stoi = {s:i + 1 for i, s in enumerate(chars)}\n",
    "stoi['.'] = 0 \n",
    "itos = {i:s for s, i in stoi.items()}\n",
    "print(itos)"
   ]
  },
  {
   "cell_type": "code",
   "execution_count": 5,
   "id": "047386f6",
   "metadata": {},
   "outputs": [],
   "source": [
    " #build dataset\n",
    "block_size = 3 #context length: how many characters do we take to predict the next one\n",
    "X, Y = [], [] #Inputs, labels \n",
    "\n",
    "for w in words[:5]:\n",
    "    context = [0] * block_size\n",
    "    for ch in w + '.':\n",
    "        ix = stoi[ch]\n",
    "        X.append(context)\n",
    "        Y.append(ix)\n",
    "        conxtext = context[1:] + [ix]\n",
    "\n",
    "X = torch.tensor(X)\n",
    "Y = torch.tensor(Y)"
   ]
  },
  {
   "cell_type": "code",
   "execution_count": 6,
   "id": "88284d88",
   "metadata": {},
   "outputs": [],
   "source": [
    "C = torch.randn((27, 2)) #27 characters, 2 embedding dimensions"
   ]
  },
  {
   "cell_type": "code",
   "execution_count": 7,
   "id": "33d74915",
   "metadata": {},
   "outputs": [
    {
     "data": {
      "text/plain": [
       "tensor([ 0.0225, -0.7338])"
      ]
     },
     "execution_count": 7,
     "metadata": {},
     "output_type": "execute_result"
    }
   ],
   "source": [
    "C[5]"
   ]
  },
  {
   "cell_type": "code",
   "execution_count": null,
   "id": "6e267790",
   "metadata": {},
   "outputs": [
    {
     "data": {
      "text/plain": [
       "torch.Size([32, 3, 2])"
      ]
     },
     "execution_count": 9,
     "metadata": {},
     "output_type": "execute_result"
    }
   ],
   "source": [
    "#embed all integers in X simultaneously:\n",
    "emb = C[X] # (N, block_size, d)\n",
    "emb.shape#"
   ]
  },
  {
   "cell_type": "code",
   "execution_count": null,
   "id": "f2bbb8de",
   "metadata": {},
   "outputs": [
    {
     "data": {
      "text/plain": [
       "torch.Size([32, 6])"
      ]
     },
     "execution_count": 13,
     "metadata": {},
     "output_type": "execute_result"
    }
   ],
   "source": [
    "#construct hidden layer:\n",
    "W1 = torch.randn((6, 100)) #(no of inputs: 3 of 2 dimensional embeddings, no of neurons: 100)\n",
    "b1 = torch.randn((100)) #bias for hidden layer\n",
    "\n",
    "#transform embedding matrix to [32, 6] matrix - concatenate all the embeddings of the 3 words in the context\n",
    "torch.cat([emb[:,0,:], emb[:,1,:], emb[:,2,:]], dim=1).shape # (N, 6)"
   ]
  },
  {
   "cell_type": "code",
   "execution_count": 14,
   "id": "7cc83f67",
   "metadata": {},
   "outputs": [
    {
     "data": {
      "text/plain": [
       "torch.Size([32, 6])"
      ]
     },
     "execution_count": 14,
     "metadata": {},
     "output_type": "execute_result"
    }
   ],
   "source": [
    "torch.cat(torch.unbind(emb, 1), 1).shape"
   ]
  },
  {
   "cell_type": "code",
   "execution_count": 15,
   "id": "429ea0bc",
   "metadata": {},
   "outputs": [
    {
     "data": {
      "text/plain": [
       "tensor([ 0,  1,  2,  3,  4,  5,  6,  7,  8,  9, 10, 11, 12, 13, 14, 15, 16, 17])"
      ]
     },
     "execution_count": 15,
     "metadata": {},
     "output_type": "execute_result"
    }
   ],
   "source": [
    "a = torch.arange(18)\n",
    "a"
   ]
  },
  {
   "cell_type": "code",
   "execution_count": 16,
   "id": "6426fd25",
   "metadata": {},
   "outputs": [
    {
     "data": {
      "text/plain": [
       "torch.Size([18])"
      ]
     },
     "execution_count": 16,
     "metadata": {},
     "output_type": "execute_result"
    }
   ],
   "source": [
    "a.shape"
   ]
  },
  {
   "cell_type": "code",
   "execution_count": 17,
   "id": "17f8d774",
   "metadata": {},
   "outputs": [
    {
     "data": {
      "text/plain": [
       "tensor([[[ 0,  1],\n",
       "         [ 2,  3],\n",
       "         [ 4,  5]],\n",
       "\n",
       "        [[ 6,  7],\n",
       "         [ 8,  9],\n",
       "         [10, 11]],\n",
       "\n",
       "        [[12, 13],\n",
       "         [14, 15],\n",
       "         [16, 17]]])"
      ]
     },
     "execution_count": 17,
     "metadata": {},
     "output_type": "execute_result"
    }
   ],
   "source": [
    "a.view(3,3,2)"
   ]
  },
  {
   "cell_type": "markdown",
   "id": "d63e1e75",
   "metadata": {},
   "source": [
    "We can chage the shape of the tensor with .view(*as long as the multiplication equals to 18 - original tensor)\n"
   ]
  },
  {
   "cell_type": "code",
   "execution_count": 18,
   "id": "2b5fdb94",
   "metadata": {},
   "outputs": [
    {
     "name": "stderr",
     "output_type": "stream",
     "text": [
      "C:\\Users\\pkduo\\AppData\\Local\\Temp\\ipykernel_31436\\214256462.py:1: UserWarning: TypedStorage is deprecated. It will be removed in the future and UntypedStorage will be the only storage class. This should only matter to you if you are using storages directly.  To access UntypedStorage directly, use tensor.untyped_storage() instead of tensor.storage()\n",
      "  a.storage()\n"
     ]
    },
    {
     "data": {
      "text/plain": [
       " 0\n",
       " 1\n",
       " 2\n",
       " 3\n",
       " 4\n",
       " 5\n",
       " 6\n",
       " 7\n",
       " 8\n",
       " 9\n",
       " 10\n",
       " 11\n",
       " 12\n",
       " 13\n",
       " 14\n",
       " 15\n",
       " 16\n",
       " 17\n",
       "[torch.storage.TypedStorage(dtype=torch.int64, device=cpu) of size 18]"
      ]
     },
     "execution_count": 18,
     "metadata": {},
     "output_type": "execute_result"
    }
   ],
   "source": [
    "a.storage()"
   ]
  },
  {
   "cell_type": "markdown",
   "id": "2917a782",
   "metadata": {},
   "source": [
    "In pytorch, tensors has an underlying storage that is just a 1 dimensional array - how its represented in the computer memnory.\n",
    "\n",
    "When we call .view, no underlying memory is changed, but internal attributes of the view of the tensor - storage offset, stride, shapes -> seen as n-dimensional array."
   ]
  },
  {
   "cell_type": "code",
   "execution_count": 19,
   "id": "2ff607ac",
   "metadata": {},
   "outputs": [
    {
     "data": {
      "text/plain": [
       "torch.Size([32, 3, 2])"
      ]
     },
     "execution_count": 19,
     "metadata": {},
     "output_type": "execute_result"
    }
   ],
   "source": [
    "emb.shape"
   ]
  },
  {
   "cell_type": "code",
   "execution_count": null,
   "id": "dfb57928",
   "metadata": {},
   "outputs": [
    {
     "data": {
      "text/plain": [
       "tensor([[-0.9782,  1.0282, -0.9782,  1.0282, -0.9782,  1.0282],\n",
       "        [-0.9782,  1.0282, -0.9782,  1.0282, -0.9782,  1.0282],\n",
       "        [-0.9782,  1.0282, -0.9782,  1.0282, -0.9782,  1.0282],\n",
       "        [-0.9782,  1.0282, -0.9782,  1.0282, -0.9782,  1.0282],\n",
       "        [-0.9782,  1.0282, -0.9782,  1.0282, -0.9782,  1.0282],\n",
       "        [-0.9782,  1.0282, -0.9782,  1.0282, -0.9782,  1.0282],\n",
       "        [-0.9782,  1.0282, -0.9782,  1.0282, -0.9782,  1.0282],\n",
       "        [-0.9782,  1.0282, -0.9782,  1.0282, -0.9782,  1.0282],\n",
       "        [-0.9782,  1.0282, -0.9782,  1.0282, -0.9782,  1.0282],\n",
       "        [-0.9782,  1.0282, -0.9782,  1.0282, -0.9782,  1.0282],\n",
       "        [-0.9782,  1.0282, -0.9782,  1.0282, -0.9782,  1.0282],\n",
       "        [-0.9782,  1.0282, -0.9782,  1.0282, -0.9782,  1.0282],\n",
       "        [-0.9782,  1.0282, -0.9782,  1.0282, -0.9782,  1.0282],\n",
       "        [-0.9782,  1.0282, -0.9782,  1.0282, -0.9782,  1.0282],\n",
       "        [-0.9782,  1.0282, -0.9782,  1.0282, -0.9782,  1.0282],\n",
       "        [-0.9782,  1.0282, -0.9782,  1.0282, -0.9782,  1.0282],\n",
       "        [-0.9782,  1.0282, -0.9782,  1.0282, -0.9782,  1.0282],\n",
       "        [-0.9782,  1.0282, -0.9782,  1.0282, -0.9782,  1.0282],\n",
       "        [-0.9782,  1.0282, -0.9782,  1.0282, -0.9782,  1.0282],\n",
       "        [-0.9782,  1.0282, -0.9782,  1.0282, -0.9782,  1.0282],\n",
       "        [-0.9782,  1.0282, -0.9782,  1.0282, -0.9782,  1.0282],\n",
       "        [-0.9782,  1.0282, -0.9782,  1.0282, -0.9782,  1.0282],\n",
       "        [-0.9782,  1.0282, -0.9782,  1.0282, -0.9782,  1.0282],\n",
       "        [-0.9782,  1.0282, -0.9782,  1.0282, -0.9782,  1.0282],\n",
       "        [-0.9782,  1.0282, -0.9782,  1.0282, -0.9782,  1.0282],\n",
       "        [-0.9782,  1.0282, -0.9782,  1.0282, -0.9782,  1.0282],\n",
       "        [-0.9782,  1.0282, -0.9782,  1.0282, -0.9782,  1.0282],\n",
       "        [-0.9782,  1.0282, -0.9782,  1.0282, -0.9782,  1.0282],\n",
       "        [-0.9782,  1.0282, -0.9782,  1.0282, -0.9782,  1.0282],\n",
       "        [-0.9782,  1.0282, -0.9782,  1.0282, -0.9782,  1.0282],\n",
       "        [-0.9782,  1.0282, -0.9782,  1.0282, -0.9782,  1.0282],\n",
       "        [-0.9782,  1.0282, -0.9782,  1.0282, -0.9782,  1.0282]])"
      ]
     },
     "execution_count": 20,
     "metadata": {},
     "output_type": "execute_result"
    }
   ],
   "source": [
    "emb.view(32,6) #flattened view of the embedding matrix"
   ]
  },
  {
   "cell_type": "code",
   "execution_count": 21,
   "id": "b135ad16",
   "metadata": {},
   "outputs": [],
   "source": [
    "h = torch.tanh(emb.view(-1, 6) @ W1 + b1)\n",
    "\n",
    "\n",
    "#(when input for view is -1, it infers the dimension automatically)"
   ]
  },
  {
   "cell_type": "code",
   "execution_count": 22,
   "id": "2eeda0d5",
   "metadata": {},
   "outputs": [
    {
     "data": {
      "text/plain": [
       "torch.Size([32, 100])"
      ]
     },
     "execution_count": 22,
     "metadata": {},
     "output_type": "execute_result"
    }
   ],
   "source": [
    "h.shape"
   ]
  },
  {
   "cell_type": "code",
   "execution_count": 23,
   "id": "8ec8ffb8",
   "metadata": {},
   "outputs": [
    {
     "data": {
      "text/plain": [
       "torch.Size([32, 100])"
      ]
     },
     "execution_count": 23,
     "metadata": {},
     "output_type": "execute_result"
    }
   ],
   "source": [
    "(emb.view(-1, 6) @ W1 + b1).shape "
   ]
  },
  {
   "cell_type": "code",
   "execution_count": 24,
   "id": "1519431a",
   "metadata": {},
   "outputs": [
    {
     "data": {
      "text/plain": [
       "torch.Size([100])"
      ]
     },
     "execution_count": 24,
     "metadata": {},
     "output_type": "execute_result"
    }
   ],
   "source": [
    "b1.shape"
   ]
  },
  {
   "cell_type": "code",
   "execution_count": null,
   "id": "ee9c3dc0",
   "metadata": {},
   "outputs": [],
   "source": [
    "#32, 100\n",
    "#1, 100 -> broadcasted to 32, 100"
   ]
  },
  {
   "cell_type": "code",
   "execution_count": 25,
   "id": "d65d5d70",
   "metadata": {},
   "outputs": [],
   "source": [
    "W2 = torch.rand((100, 27)) #27 possible characters\n",
    "b2 = torch.rand((27)) \n"
   ]
  },
  {
   "cell_type": "code",
   "execution_count": 26,
   "id": "0cda7ee7",
   "metadata": {},
   "outputs": [
    {
     "data": {
      "text/plain": [
       "torch.Size([32, 27])"
      ]
     },
     "execution_count": 26,
     "metadata": {},
     "output_type": "execute_result"
    }
   ],
   "source": [
    "logits = h @ W2 + b2 # (N, 27)\n",
    "logits.shape\n"
   ]
  },
  {
   "cell_type": "code",
   "execution_count": 27,
   "id": "2002bc63",
   "metadata": {},
   "outputs": [
    {
     "data": {
      "text/plain": [
       "torch.Size([32, 27])"
      ]
     },
     "execution_count": 27,
     "metadata": {},
     "output_type": "execute_result"
    }
   ],
   "source": [
    "counts = logits.exp()\n",
    "prob = counts / counts.sum(1, keepdim=True) # (N, 27)\n",
    "prob.shape"
   ]
  },
  {
   "cell_type": "code",
   "execution_count": null,
   "id": "4b685c7c",
   "metadata": {},
   "outputs": [],
   "source": []
  }
 ],
 "metadata": {
  "kernelspec": {
   "display_name": "Python 3",
   "language": "python",
   "name": "python3"
  },
  "language_info": {
   "codemirror_mode": {
    "name": "ipython",
    "version": 3
   },
   "file_extension": ".py",
   "mimetype": "text/x-python",
   "name": "python",
   "nbconvert_exporter": "python",
   "pygments_lexer": "ipython3",
   "version": "3.12.9"
  }
 },
 "nbformat": 4,
 "nbformat_minor": 5
}
